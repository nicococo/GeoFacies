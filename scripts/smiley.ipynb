{
 "cells": [
  {
   "cell_type": "code",
   "execution_count": 12,
   "metadata": {},
   "outputs": [],
   "source": [
    "import numpy as np\n",
    "import cvxopt as co"
   ]
  },
  {
   "cell_type": "code",
   "execution_count": 21,
   "metadata": {},
   "outputs": [],
   "source": [
    "import matplotlib.pyplot as plt"
   ]
  },
  {
   "cell_type": "code",
   "execution_count": 14,
   "metadata": {},
   "outputs": [],
   "source": [
    "from niidbox.tcrfr_qp import TCRFR_QP\n",
    "from niidbox.tcrfr_lbpa import TCRFR_lbpa"
   ]
  },
  {
   "cell_type": "code",
   "execution_count": 15,
   "metadata": {},
   "outputs": [],
   "source": [
    "from niidbox.utils import profile, print_profiles"
   ]
  },
  {
   "cell_type": "code",
   "execution_count": 16,
   "metadata": {},
   "outputs": [],
   "source": [
    "data = np.load('niidbox-data/data_smiley.npz')\n",
    "x = data['x']\n",
    "y = data['y']\n",
    "z = data['latent']\n",
    "width = data['width']\n",
    "height = data['height']\n",
    "exms = x.shape[0]"
   ]
  },
  {
   "cell_type": "code",
   "execution_count": 17,
   "metadata": {},
   "outputs": [],
   "source": [
    "A = co.spmatrix(0, [], [], (exms, exms), tc='d')\n",
    "for i in range(height):\n",
    "    for j in range(width):\n",
    "        idx = i*width + j\n",
    "        idx1 = (i+1)*width + j\n",
    "        idx2 = i*width + j + 1\n",
    "        if i < height-1:\n",
    "            A[idx, idx1] = 1\n",
    "            A[idx1, idx] = 1\n",
    "        if j < width-1:\n",
    "            A[idx, idx2] = 1\n",
    "            A[idx2, idx] = 1"
   ]
  },
  {
   "cell_type": "code",
   "execution_count": 18,
   "metadata": {},
   "outputs": [],
   "source": [
    "linds = np.random.permutation(exms)[:np.int(0.3*exms)]"
   ]
  },
  {
   "cell_type": "code",
   "execution_count": 19,
   "metadata": {},
   "outputs": [
    {
     "name": "stdout",
     "output_type": "stream",
     "text": [
      "Maximum number of neigbhors is 4.\n2500 1250\n0.0295829772949\n\n===============================\nTCRFR Properties:\n===============================\n- Samples       : 651\n- Labeled       : 195\n- Unlabeled     : 456\n- Features      : 2\n- CRF Dims      : 7 = 3+4\n-------------------------------\n- Lambda        : 0.001\n- Gamma         : 1.0\n- Theta         : 0.85\n- Q_regs        : [1.0, 1.0]\n-------------------------------\n- Edges         : 1250\n- States        : 2\n- Trans-types   : 1\n- Trans-Sym     : [1]\n===============================\n\nInit constraint matrices for relaxed QP with 5000 marginal and 651 vertex constraints.\nThere are 5000 marginal contraints and 651 vertex constraints."
     ]
    },
    {
     "name": "stdout",
     "output_type": "stream",
     "text": [
      "\n344"
     ]
    },
    {
     "name": "stdout",
     "output_type": "stream",
     "text": [
      "  -  28\nAuto-adjust reg_gamma = 3694.58260201 norm_v=1.0\n8\nComputer\n"
     ]
    },
    {
     "name": "stdout",
     "output_type": "stream",
     "text": [
      "\n  Platform               : MACOSX/64-X86   \n\n  Cores                  : 8               \n\n\n\nProblem\n\n  Name                   :                 \n\n  Objective sense        : min             \n\n  Type                   : QO (quadratic optimization problem)\n\n  Constraints            : 11953           \n\n  Cones                  : 0               \n\n  Scalar variables       : 6302            \n\n  Matrix variables       : 0               \n\n  Integer variables      : 0               \n\n\n\nOptimizer started.\n\nInterior-point optimizer started.\n\nPresolve started.\n\nLinear dependency checker started.\n\nLinear dependency checker terminated.\n\nEliminator started.\n\nTotal number of eliminations : 456\n\nEliminator terminated.\n\nEliminator - tries                  : 1                 time                   : 0.00            \n\nEliminator - elim's                 : 456             \n\nLin. dep.  - tries                  : 1                 time                   : 0.01            \n\nLin. dep.  - number                 : 1250            \n\nPresolve terminated. Time: 0.02    \n\nMatrix reordering started.\n\nLocal matrix reordering started.\n\nLocal matrix reordering terminated.\n"
     ]
    },
    {
     "name": "stdout",
     "output_type": "stream",
     "text": [
      "\nMatrix reordering terminated.\n\nOptimizer  - threads                : 8               \n\nOptimizer  - solved problem         : the primal      \n\nOptimizer  - Constraints            : 3489\n\nOptimizer  - Cones                  : 0\n\nOptimizer  - Scalar variables       : 5390              conic                  : 0               \n\nOptimizer  - Semi-definite variables: 0                 scalarized             : 0               \n\nFactor     - setup time             : 0.14              dense det. time        : 0.00            \n\nFactor     - ML order time          : 0.00              GP order time          : 0.13            \n\nFactor     - nonzeros before factor : 2.15e+04          after factor           : 5.14e+04        \n\nFactor     - dense dim.             : 0                 flops                  : 0.00e+00        \n\nFactor     - GP saved nzs           : 0                 GP saved flops         : 0.00e+00        \n\nITE PFEAS    DFEAS    GFEAS    PRSTATUS   POBJ              DOBJ              MU       TIME  \n\n0   1.3e+02  2.0e+02  7.3e+02  0.00e+00   -1.171439518e+03  -4.367642760e+02  1.0e+00  0.16  \n\n1   9.1e+00  1.4e+01  8.2e+02  -2.20e-01  -3.256071076e+03  -5.097220513e+03  1.4e-01  0.17  \n\n2   3.0e-01  4.4e-01  8.6e+01  1.59e+00   -3.445186174e+03  -3.595323065e+03  1.1e-02  0.17  \n\n3   3.5e-02  5.2e-02  2.0e+01  1.02e+00   -3.474809882e+03  -3.509528915e+03  2.4e-03  0.17  \n\n4   7.3e-03  1.1e-02  5.7e+00  1.00e+00   -3.485698275e+03  -3.495505679e+03  6.5e-04  0.17  \n\n5   3.1e-03  4.7e-03  2.6e+00  1.00e+00   -3.488371090e+03  -3.492853927e+03  3.0e-04  0.18  \n\n6   1.1e-03  1.7e-03  1.0e+00  1.00e+00   -3.489733197e+03  -3.491449332e+03  1.1e-04  0.18  \n\n7   6.5e-04  9.6e-04  5.7e-01  1.00e+00   -3.490056191e+03  -3.491043881e+03  6.5e-05  0.19  \n\n8   4.0e-04  6.0e-04  3.6e-01  1.00e+00   -3.490230247e+03  -3.490848036e+03  4.1e-05  0.19  \n\n9   2.6e-04  4.0e-04  2.4e-01  1.00e+00   -3.490328867e+03  -3.490737288e+03  2.7e-05  0.19  \n\n10  1.4e-04  2.1e-04  1.3e-01  1.00e+00   -3.490420202e+03  -3.490639344e+03  1.4e-05  0.19  \n\n11  8.2e-05  1.2e-04  7.4e-02  1.00e+00   -3.490463697e+03  -3.490591851e+03  8.5e-06  0.19  \n\n12  5.0e-05  7.5e-05  4.5e-02  1.00e+00   -3.490488519e+03  -3.490566733e+03  5.2e-06  0.20  \n\n13  2.6e-05  3.9e-05  2.4e-02  1.00e+00   -3.490507287e+03  -3.490548096e+03  2.7e-06  0.20  \n\n14  1.3e-05  2.0e-05  1.2e-02  1.00e+00   -3.490517345e+03  -3.490538219e+03  1.4e-06  0.20  \n\n15  6.9e-06  1.0e-05  6.3e-03  1.00e+00   -3.490522353e+03  -3.490533263e+03  7.2e-07  0.20  \n\n16  3.3e-06  5.0e-06  3.1e-03  1.00e+00   -3.490525262e+03  -3.490530554e+03  3.5e-07  0.21  \n\n17  2.1e-06  3.1e-06  1.9e-03  1.00e+00   -3.490526326e+03  -3.490529605e+03  2.2e-07  0.21  \n\n18  7.5e-07  1.1e-06  6.9e-04  1.00e+00   -3.490527439e+03  -3.490528630e+03  7.9e-08  0.21  \n"
     ]
    },
    {
     "name": "stdout",
     "output_type": "stream",
     "text": [
      "\n19  2.4e-07  3.6e-07  2.2e-04  1.00e+00   -3.490527873e+03  -3.490528256e+03  2.5e-08  0.22  \n\n20  1.4e-08  2.0e-08  1.4e-05  1.00e+00   -3.490528070e+03  -3.490528093e+03  1.5e-09  0.22  \n\nInterior-point optimizer terminated. Time: 0.22. \n\n\n\nOptimizer terminated. Time: 0.23    \n\n\n\nInterior-point solution summary\n\n  Problem status  : PRIMAL_AND_DUAL_FEASIBLE\n\n  Solution status : OPTIMAL\n\n  Primal.  obj: -3.4905280698e+03   Viol.  con: 5e-10    var: 0e+00  \n\n  Dual.    obj: -3.4905280932e+03   Viol.  con: 0e+00    var: 9e-09  \n\n64"
     ]
    },
    {
     "name": "stdout",
     "output_type": "stream",
     "text": [
      "  -  6\nIter=0 regr=7.18 crf=-1769.82; objective=-259.37 rel=385552905412675214641302621464290626346116186112.0000 lats=2\n  norm_v=0.998179057843\n*\n8\nComputer\n"
     ]
    },
    {
     "name": "stdout",
     "output_type": "stream",
     "text": [
      "\n  Platform               : MACOSX/64-X86   \n\n  Cores                  : 8               \n\n\n\nProblem\n\n  Name                   :                 \n\n  Objective sense        : min             \n\n  Type                   : QO (quadratic optimization problem)\n\n  Constraints            : 11953           \n\n  Cones                  : 0               \n\n  Scalar variables       : 6302            \n\n  Matrix variables       : 0               \n\n  Integer variables      : 0               \n\n\n\nOptimizer started.\n\nInterior-point optimizer started.\n\nPresolve started.\n\nLinear dependency checker started.\n\nLinear dependency checker terminated.\n\nEliminator started.\n\nTotal number of eliminations : 456\n\nEliminator terminated.\n\nEliminator - tries                  : 1                 time                   : 0.00            \n\nEliminator - elim's                 : 456             \n\nLin. dep.  - tries                  : 1                 time                   : 0.01            \n\nLin. dep.  - number                 : 1250            \n\nPresolve terminated. Time: 0.02    \n\nMatrix reordering started.\n\nLocal matrix reordering started.\n\nLocal matrix reordering terminated.\n"
     ]
    },
    {
     "name": "stdout",
     "output_type": "stream",
     "text": [
      "\nMatrix reordering terminated.\n\nOptimizer  - threads                : 8               \n\nOptimizer  - solved problem         : the primal      \n\nOptimizer  - Constraints            : 3489\n\nOptimizer  - Cones                  : 0\n\nOptimizer  - Scalar variables       : 5390              conic                  : 0               \n\nOptimizer  - Semi-definite variables: 0                 scalarized             : 0               \n\nFactor     - setup time             : 0.15              dense det. time        : 0.00            \n\nFactor     - ML order time          : 0.00              GP order time          : 0.13            \n\nFactor     - nonzeros before factor : 2.15e+04          after factor           : 5.14e+04        \n\nFactor     - dense dim.             : 0                 flops                  : 0.00e+00        \n\nFactor     - GP saved nzs           : 0                 GP saved flops         : 0.00e+00        \n\nITE PFEAS    DFEAS    GFEAS    PRSTATUS   POBJ              DOBJ              MU       TIME  \n\n0   1.3e+02  2.2e+02  5.6e+02  0.00e+00   -9.875232844e+02  -4.304318664e+02  1.0e+00  0.17  \n\n1   1.1e+01  1.8e+01  7.9e+02  -2.78e-01  -3.186936720e+03  -5.037987686e+03  1.5e-01  0.18  \n\n2   4.9e-01  8.0e-01  1.2e+02  1.65e+00   -3.442566577e+03  -3.664224859e+03  1.6e-02  0.18  \n\n3   5.5e-02  8.8e-02  2.5e+01  1.03e+00   -3.476317298e+03  -3.520769569e+03  3.0e-03  0.18  \n\n4   1.1e-02  1.8e-02  7.2e+00  1.01e+00   -3.491212967e+03  -3.503755486e+03  8.2e-04  0.18  \n\n5   4.3e-03  6.9e-03  3.0e+00  1.00e+00   -3.494723307e+03  -3.499982944e+03  3.4e-04  0.19  \n\n6   1.5e-03  2.4e-03  1.1e+00  1.00e+00   -3.496307853e+03  -3.498266668e+03  1.3e-04  0.19  \n\n7   7.4e-04  1.2e-03  5.7e-01  1.00e+00   -3.496763288e+03  -3.497760156e+03  6.4e-05  0.20  \n\n8   4.1e-04  6.6e-04  3.2e-01  1.00e+00   -3.496975118e+03  -3.497539628e+03  3.6e-05  0.20  \n\n9   2.5e-04  4.0e-04  2.0e-01  1.00e+00   -3.497082798e+03  -3.497426162e+03  2.2e-05  0.21  \n\n10  1.4e-04  2.3e-04  1.1e-01  1.00e+00   -3.497156314e+03  -3.497353814e+03  1.3e-05  0.22  \n"
     ]
    },
    {
     "name": "stdout",
     "output_type": "stream",
     "text": [
      "\n11  7.7e-05  1.2e-04  6.1e-02  1.00e+00   -3.497203481e+03  -3.497310799e+03  6.9e-06  0.23  \n\n12  4.1e-05  6.5e-05  3.3e-02  1.00e+00   -3.497230767e+03  -3.497287582e+03  3.7e-06  0.24  \n\n13  2.7e-05  4.3e-05  2.1e-02  1.00e+00   -3.497241245e+03  -3.497278439e+03  2.4e-06  0.25  \n\n14  9.8e-06  1.6e-05  7.9e-03  1.00e+00   -3.497253978e+03  -3.497267763e+03  8.9e-07  0.25  \n\n15  2.7e-06  4.3e-06  2.2e-03  1.00e+00   -3.497259671e+03  -3.497263456e+03  2.4e-07  0.26  \n\n16  3.4e-07  5.5e-07  2.8e-04  1.00e+00   -3.497261607e+03  -3.497262100e+03  3.2e-08  0.26  \n\n17  1.2e-07  2.0e-07  1.0e-04  1.00e+00   -3.497261798e+03  -3.497261974e+03  1.1e-08  0.27  \n\n18  4.4e-09  7.1e-09  3.7e-06  1.00e+00   -3.497261900e+03  -3.497261907e+03  4.2e-10  0.27  \n\nInterior-point optimizer terminated. Time: 0.27. \n"
     ]
    },
    {
     "name": "stdout",
     "output_type": "stream",
     "text": [
      "\n\n\nOptimizer terminated. Time: 0.27    \n\n\n\nInterior-point solution summary\n\n  Problem status  : PRIMAL_AND_DUAL_FEASIBLE\n\n  Solution status : OPTIMAL\n\n  Primal.  obj: -3.4972619003e+03   Viol.  con: 2e-10    var: 0e+00  \n\n  Dual.    obj: -3.4972619068e+03   Viol.  con: 0e+00    var: 3e-09  \n\n56"
     ]
    },
    {
     "name": "stdout",
     "output_type": "stream",
     "text": [
      "  -  5\nIter=1 regr=7.18 crf=-1769.92; objective=-259.38 rel=0.0001 lats=2\n  norm_v=0.998289807722\n*\n8\nComputer\n"
     ]
    },
    {
     "name": "stdout",
     "output_type": "stream",
     "text": [
      "\n  Platform               : MACOSX/64-X86   \n\n  Cores                  : 8               \n\n\n\nProblem\n\n  Name                   :                 \n\n  Objective sense        : min             \n\n  Type                   : QO (quadratic optimization problem)\n\n  Constraints            : 11953           \n\n  Cones                  : 0               \n\n  Scalar variables       : 6302            \n\n  Matrix variables       : 0               \n\n  Integer variables      : 0               \n\n\n\nOptimizer started.\n\nInterior-point optimizer started.\n\nPresolve started.\n\nLinear dependency checker started.\n\nLinear dependency checker terminated.\n\nEliminator started.\n\nTotal number of eliminations : 456\n\nEliminator terminated.\n\nEliminator - tries                  : 1                 time                   : 0.00            \n\nEliminator - elim's                 : 456             \n\nLin. dep.  - tries                  : 1                 time                   : 0.01            \n\nLin. dep.  - number                 : 1250            \n\nPresolve terminated. Time: 0.02    \n\nMatrix reordering started.\n\nLocal matrix reordering started.\n\nLocal matrix reordering terminated.\n"
     ]
    },
    {
     "name": "stdout",
     "output_type": "stream",
     "text": [
      "\nMatrix reordering terminated.\n\nOptimizer  - threads                : 8               \n\nOptimizer  - solved problem         : the primal      \n\nOptimizer  - Constraints            : 3489\n\nOptimizer  - Cones                  : 0\n\nOptimizer  - Scalar variables       : 5390              conic                  : 0               \n\nOptimizer  - Semi-definite variables: 0                 scalarized             : 0               \n\nFactor     - setup time             : 0.14              dense det. time        : 0.00            \n\nFactor     - ML order time          : 0.00              GP order time          : 0.13            \n\nFactor     - nonzeros before factor : 2.15e+04          after factor           : 5.14e+04        \n\nFactor     - dense dim.             : 0                 flops                  : 0.00e+00        \n\nFactor     - GP saved nzs           : 0                 GP saved flops         : 0.00e+00        \n\nITE PFEAS    DFEAS    GFEAS    PRSTATUS   POBJ              DOBJ              MU       TIME  \n\n0   1.3e+02  2.2e+02  5.6e+02  0.00e+00   -9.873360669e+02  -4.304983156e+02  1.0e+00  0.16  \n\n1   1.1e+01  1.8e+01  7.9e+02  -2.78e-01  -3.186897454e+03  -5.037953260e+03  1.5e-01  0.18  \n\n2   4.9e-01  8.0e-01  1.2e+02  1.65e+00   -3.442571657e+03  -3.664254514e+03  1.6e-02  0.18  \n\n3   5.5e-02  8.9e-02  2.5e+01  1.03e+00   -3.476308141e+03  -3.520856631e+03  3.0e-03  0.18  \n\n4   1.1e-02  1.8e-02  7.1e+00  1.01e+00   -3.491276712e+03  -3.503748600e+03  8.2e-04  0.18  \n\n5   4.1e-03  6.7e-03  2.9e+00  1.00e+00   -3.494810803e+03  -3.499932583e+03  3.3e-04  0.19  \n\n6   1.4e-03  2.3e-03  1.1e+00  1.00e+00   -3.496348059e+03  -3.498260626e+03  1.2e-04  0.19  \n\n7   7.6e-04  1.2e-03  5.9e-01  1.00e+00   -3.496766756e+03  -3.497799137e+03  6.7e-05  0.19  \n\n8   4.4e-04  7.1e-04  3.5e-01  1.00e+00   -3.496976135e+03  -3.497582727e+03  3.9e-05  0.20  \n\n9   2.4e-04  3.8e-04  1.9e-01  1.00e+00   -3.497111149e+03  -3.497441440e+03  2.1e-05  0.20  \n\n10  1.5e-04  2.4e-04  1.2e-01  1.00e+00   -3.497174987e+03  -3.497378890e+03  1.3e-05  0.21  \n\n11  6.8e-05  1.1e-04  5.4e-02  1.00e+00   -3.497231575e+03  -3.497326304e+03  6.1e-06  0.21  \n\n12  3.9e-05  6.3e-05  3.1e-02  1.00e+00   -3.497252916e+03  -3.497307697e+03  3.5e-06  0.23  \n"
     ]
    },
    {
     "name": "stdout",
     "output_type": "stream",
     "text": [
      "\n13  1.8e-05  2.9e-05  1.5e-02  1.00e+00   -3.497268697e+03  -3.497294169e+03  1.6e-06  0.24  \n\n14  7.6e-06  1.2e-05  6.2e-03  1.00e+00   -3.497276846e+03  -3.497287689e+03  7.0e-07  0.24  \n\n15  1.2e-06  2.0e-06  1.0e-03  1.00e+00   -3.497282007e+03  -3.497283785e+03  1.1e-07  0.24  \n\n16  2.7e-07  4.3e-07  2.2e-04  1.00e+00   -3.497282828e+03  -3.497283214e+03  2.5e-08  0.25  \n\n17  1.7e-08  2.8e-08  1.5e-05  1.00e+00   -3.497283041e+03  -3.497283067e+03  1.6e-09  0.25  \n\nInterior-point optimizer terminated. Time: 0.25. \n\n\n\nOptimizer terminated. Time: 0.25    \n\n\n\nInterior-point solution summary\n\n  Problem status  : PRIMAL_AND_DUAL_FEASIBLE\n\n  Solution status : OPTIMAL\n\n  Primal.  obj: -3.4972830413e+03   Viol.  con: 7e-10    var: 0e+00  \n\n  Dual.    obj: -3.4972830667e+03   Viol.  con: 0e+00    var: 1e-08  \n\n24"
     ]
    },
    {
     "name": "stdout",
     "output_type": "stream",
     "text": [
      "  -  1\nIter=2 regr=7.18 crf=-1769.92; objective=-259.38 rel=0.0000 lats=2\n  norm_v=0.998290973878\n*\n8\nComputer\n"
     ]
    },
    {
     "name": "stdout",
     "output_type": "stream",
     "text": [
      "\n  Platform               : MACOSX/64-X86   \n\n  Cores                  : 8               \n\n\n\nProblem\n\n  Name                   :                 \n\n  Objective sense        : min             \n\n  Type                   : QO (quadratic optimization problem)\n\n  Constraints            : 11953           \n\n  Cones                  : 0               \n\n  Scalar variables       : 6302            \n\n  Matrix variables       : 0               \n\n  Integer variables      : 0               \n\n\n\nOptimizer started.\n\nInterior-point optimizer started.\n\nPresolve started.\n\nLinear dependency checker started.\n\nLinear dependency checker terminated.\n\nEliminator started.\n\nTotal number of eliminations : 456\n\nEliminator terminated.\n\nEliminator - tries                  : 1                 time                   : 0.00            \n\nEliminator - elim's                 : 456             \n\nLin. dep.  - tries                  : 1                 time                   : 0.01            \n\nLin. dep.  - number                 : 1250            \n\nPresolve terminated. Time: 0.02    \n\nMatrix reordering started.\n\nLocal matrix reordering started.\n\nLocal matrix reordering terminated.\n"
     ]
    },
    {
     "name": "stdout",
     "output_type": "stream",
     "text": [
      "\nMatrix reordering terminated.\n\nOptimizer  - threads                : 8               \n\nOptimizer  - solved problem         : the primal      \n\nOptimizer  - Constraints            : 3489\n\nOptimizer  - Cones                  : 0\n\nOptimizer  - Scalar variables       : 5390              conic                  : 0               \n\nOptimizer  - Semi-definite variables: 0                 scalarized             : 0               \n\nFactor     - setup time             : 0.14              dense det. time        : 0.00            \n\nFactor     - ML order time          : 0.00              GP order time          : 0.13            \n\nFactor     - nonzeros before factor : 2.15e+04          after factor           : 5.14e+04        \n\nFactor     - dense dim.             : 0                 flops                  : 0.00e+00        \n\nFactor     - GP saved nzs           : 0                 GP saved flops         : 0.00e+00        \n\nITE PFEAS    DFEAS    GFEAS    PRSTATUS   POBJ              DOBJ              MU       TIME  \n\n0   1.3e+02  2.2e+02  5.6e+02  0.00e+00   -9.873354494e+02  -4.304983070e+02  1.0e+00  0.16  \n\n1   1.1e+01  1.8e+01  7.9e+02  -2.78e-01  -3.186897202e+03  -5.037953107e+03  1.5e-01  0.19  \n\n2   4.9e-01  8.0e-01  1.2e+02  1.65e+00   -3.442571511e+03  -3.664254357e+03  1.6e-02  0.19  \n\n3   5.5e-02  8.9e-02  2.5e+01  1.03e+00   -3.476308015e+03  -3.520856625e+03  3.0e-03  0.21  \n\n4   1.1e-02  1.8e-02  7.1e+00  1.01e+00   -3.491276619e+03  -3.503748632e+03  8.2e-04  0.21  \n"
     ]
    },
    {
     "name": "stdout",
     "output_type": "stream",
     "text": [
      "\n5   4.1e-03  6.7e-03  2.9e+00  1.00e+00   -3.494810791e+03  -3.499932532e+03  3.3e-04  0.24  \n\n6   1.4e-03  2.3e-03  1.1e+00  1.00e+00   -3.496348038e+03  -3.498260588e+03  1.2e-04  0.25  \n\n7   7.6e-04  1.2e-03  5.9e-01  1.00e+00   -3.496766720e+03  -3.497799112e+03  6.7e-05  0.25  \n\n8   4.4e-04  7.1e-04  3.5e-01  1.00e+00   -3.496976113e+03  -3.497582687e+03  3.9e-05  0.25  \n\n9   2.4e-04  3.8e-04  1.9e-01  1.00e+00   -3.497111119e+03  -3.497441406e+03  2.1e-05  0.26  \n\n10  1.5e-04  2.4e-04  1.2e-01  1.00e+00   -3.497174971e+03  -3.497378843e+03  1.3e-05  0.27  \n"
     ]
    },
    {
     "name": "stdout",
     "output_type": "stream",
     "text": [
      "\n11  6.8e-05  1.1e-04  5.4e-02  1.00e+00   -3.497231541e+03  -3.497326275e+03  6.1e-06  0.27  \n\n12  3.9e-05  6.3e-05  3.1e-02  1.00e+00   -3.497252886e+03  -3.497307665e+03  3.5e-06  0.28  \n\n13  1.8e-05  2.9e-05  1.5e-02  1.00e+00   -3.497268710e+03  -3.497294099e+03  1.6e-06  0.28  \n\n14  7.6e-06  1.2e-05  6.2e-03  1.00e+00   -3.497276841e+03  -3.497287636e+03  7.0e-07  0.30  \n\n15  1.2e-06  2.0e-06  1.0e-03  1.00e+00   -3.497281984e+03  -3.497283747e+03  1.1e-07  0.31  \n\n16  2.7e-07  4.3e-07  2.2e-04  1.00e+00   -3.497282796e+03  -3.497283182e+03  2.5e-08  0.31  \n\n17  1.7e-08  2.8e-08  1.4e-05  1.00e+00   -3.497283010e+03  -3.497283035e+03  1.6e-09  0.31  \n\nInterior-point optimizer terminated. Time: 0.31. \n\n\n\nOptimizer terminated. Time: 0.31    \n\n\n\nInterior-point solution summary\n\n  Problem status  : PRIMAL_AND_DUAL_FEASIBLE\n\n  Solution status : OPTIMAL\n\n  Primal.  obj: -3.4972830100e+03   Viol.  con: 7e-10    var: 0e+00  \n\n  Dual.    obj: -3.4972830350e+03   Viol.  con: 0e+00    var: 1e-08  \n\n24"
     ]
    },
    {
     "name": "stdout",
     "output_type": "stream",
     "text": [
      "  -  1\nIter=3 regr=7.18 crf=-1769.92; objective=-259.38 rel=0.0000 lats=2\n  norm_v=0.998291049509\n*\n8\nComputer\n"
     ]
    },
    {
     "name": "stdout",
     "output_type": "stream",
     "text": [
      "\n  Platform               : MACOSX/64-X86   \n\n  Cores                  : 8               \n\n\n\nProblem\n\n  Name                   :                 \n\n  Objective sense        : min             \n\n  Type                   : QO (quadratic optimization problem)\n\n  Constraints            : 11953           \n\n  Cones                  : 0               \n\n  Scalar variables       : 6302            \n\n  Matrix variables       : 0               \n\n  Integer variables      : 0               \n\n\n\nOptimizer started.\n\nInterior-point optimizer started.\n\nPresolve started.\n\nLinear dependency checker started.\n\nLinear dependency checker terminated.\n\nEliminator started.\n\nTotal number of eliminations : 456\n\nEliminator terminated.\n\nEliminator - tries                  : 1                 time                   : 0.00            \n\nEliminator - elim's                 : 456             \n\nLin. dep.  - tries                  : 1                 time                   : 0.01            \n\nLin. dep.  - number                 : 1250            \n\nPresolve terminated. Time: 0.02    \n\nMatrix reordering started.\n\nLocal matrix reordering started.\n\nLocal matrix reordering terminated.\n"
     ]
    },
    {
     "name": "stdout",
     "output_type": "stream",
     "text": [
      "\nMatrix reordering terminated.\n\nOptimizer  - threads                : 8               \n\nOptimizer  - solved problem         : the primal      \n\nOptimizer  - Constraints            : 3489\n\nOptimizer  - Cones                  : 0\n\nOptimizer  - Scalar variables       : 5390              conic                  : 0               \n\nOptimizer  - Semi-definite variables: 0                 scalarized             : 0               \n\nFactor     - setup time             : 0.15              dense det. time        : 0.00            \n\nFactor     - ML order time          : 0.00              GP order time          : 0.13            \n\nFactor     - nonzeros before factor : 2.15e+04          after factor           : 5.14e+04        \n\nFactor     - dense dim.             : 0                 flops                  : 0.00e+00        \n\nFactor     - GP saved nzs           : 0                 GP saved flops         : 0.00e+00        \n\nITE PFEAS    DFEAS    GFEAS    PRSTATUS   POBJ              DOBJ              MU       TIME  \n\n0   1.3e+02  2.2e+02  5.6e+02  0.00e+00   -9.873354056e+02  -4.304983135e+02  1.0e+00  0.17  \n\n1   1.1e+01  1.8e+01  7.9e+02  -2.78e-01  -3.186897189e+03  -5.037953086e+03  1.5e-01  0.20  \n\n2   4.9e-01  8.0e-01  1.2e+02  1.65e+00   -3.442571514e+03  -3.664254366e+03  1.6e-02  0.20  \n\n3   5.5e-02  8.9e-02  2.5e+01  1.03e+00   -3.476308014e+03  -3.520856685e+03  3.0e-03  0.20  \n\n4   1.1e-02  1.8e-02  7.1e+00  1.01e+00   -3.491276657e+03  -3.503748667e+03  8.2e-04  0.21  \n\n5   4.1e-03  6.7e-03  2.9e+00  1.00e+00   -3.494810807e+03  -3.499932583e+03  3.3e-04  0.21  \n\n6   1.4e-03  2.3e-03  1.1e+00  1.00e+00   -3.496348063e+03  -3.498260626e+03  1.2e-04  0.22  \n"
     ]
    },
    {
     "name": "stdout",
     "output_type": "stream",
     "text": [
      "\n7   7.6e-04  1.2e-03  5.9e-01  1.00e+00   -3.496766751e+03  -3.497799146e+03  6.7e-05  0.22  \n\n8   4.4e-04  7.1e-04  3.5e-01  1.00e+00   -3.496976140e+03  -3.497582724e+03  3.9e-05  0.22  \n\n9   2.4e-04  3.8e-04  1.9e-01  1.00e+00   -3.497111150e+03  -3.497441440e+03  2.1e-05  0.22  \n\n10  1.5e-04  2.4e-04  1.2e-01  1.00e+00   -3.497174998e+03  -3.497378882e+03  1.3e-05  0.24  \n\n11  6.8e-05  1.1e-04  5.4e-02  1.00e+00   -3.497231574e+03  -3.497326307e+03  6.1e-06  0.25  \n\n12  3.9e-05  6.3e-05  3.1e-02  1.00e+00   -3.497252917e+03  -3.497307698e+03  3.5e-06  0.26  \n\n13  1.8e-05  2.9e-05  1.5e-02  1.00e+00   -3.497268725e+03  -3.497294146e+03  1.6e-06  0.26  \n\n14  7.6e-06  1.2e-05  6.2e-03  1.00e+00   -3.497276863e+03  -3.497287677e+03  7.0e-07  0.26  \n\n15  1.2e-06  2.0e-06  1.0e-03  1.00e+00   -3.497282014e+03  -3.497283782e+03  1.1e-07  0.26  \n\n16  2.7e-07  4.3e-07  2.2e-04  1.00e+00   -3.497282829e+03  -3.497283215e+03  2.5e-08  0.27  \n"
     ]
    },
    {
     "name": "stdout",
     "output_type": "stream",
     "text": [
      "\n17  1.7e-08  2.8e-08  1.4e-05  1.00e+00   -3.497283042e+03  -3.497283067e+03  1.6e-09  0.28  \n\nInterior-point optimizer terminated. Time: 0.28. \n\n\n\nOptimizer terminated. Time: 0.28    \n\n\n\nInterior-point solution summary\n\n  Problem status  : PRIMAL_AND_DUAL_FEASIBLE\n\n  Solution status : OPTIMAL\n\n  Primal.  obj: -3.4972830423e+03   Viol.  con: 7e-10    var: 0e+00  \n\n  Dual.    obj: -3.4972830674e+03   Viol.  con: 0e+00    var: 1e-08  \n\n24"
     ]
    },
    {
     "name": "stdout",
     "output_type": "stream",
     "text": [
      "  -  1\nIter=4 regr=7.18 crf=-1769.92; objective=-259.38 rel=0.0000 lats=2\n  norm_v=0.998291063358\n*\nTake best solution from iteration 4/4.\n"
     ]
    },
    {
     "data": {
      "text/plain": [
       "True"
      ]
     },
     "execution_count": 19,
     "output_type": "execute_result",
     "metadata": {}
    }
   ],
   "source": [
    "qp   = TCRFR_QP(x.T, y[linds], linds, states=2, A=A, reg_theta=0.85, trans_sym=[1])\n",
    "qp.fit(use_grads=False)"
   ]
  },
  {
   "cell_type": "code",
   "execution_count": 20,
   "metadata": {},
   "outputs": [
    {
     "name": "stdout",
     "output_type": "stream",
     "text": [
      "Maximum number of neigbhors is 4.\n2500 1250\n0.0295360088348\n\n===============================\nTCRFR Properties:\n===============================\n- Samples       : 651\n- Labeled       : 195\n- Unlabeled     : 456\n- Features      : 2\n- CRF Dims      : 7 = 3+4\n-------------------------------\n- Lambda        : 0.001\n- Gamma         : 1.0\n- Theta         : 0.85\n- Q_regs        : [1.0, 1.0]\n-------------------------------\n- Edges         : 1250\n- States        : 2\n- Trans-types   : 1\n- Trans-Sym     : [1]\n===============================\n\n432"
     ]
    },
    {
     "name": "stdout",
     "output_type": "stream",
     "text": [
      "  -  41\nAuto-adjust reg_gamma = 3694.62954959 norm_v=1.0\n48.9813939367"
     ]
    },
    {
     "name": "stdout",
     "output_type": "stream",
     "text": [
      "\n4.53896319537\n1.30341122497\n0.578942093057\n0.361399815691\n0.31548636902\n0.379548597659\n0.349241095987\n0.146537049746\n0.0199831836492\n0.0118699008287\n9.64506252643e-15\n1. \n1  1  1  1. 1  1  1  1  1. 1  1  1  1  1  1. 1. 1  1  1  1  1  1  1. 1  1  1  1  1  1  1  1  1. 1  1  1  1  1. 1  1  1  1  1  1  1  1  1. 1  1. 1  1  \n1  1. 1. 1  1  1  1  1. 1  1  1  1  1  1. 1. 1  1  1  1  1  1. 1  1  1. 1. 1  1  1  1. 1  1  1  1. 1  1  1  1  1  1  1  1  1  1  1. 1  1. 1. 1  1  1  \n1  1. 1. 1. 1  1. 1  1  1  1  1  1  1  1  1. 1. 1  1  1  1  1  1  1  1  1. 1  1  1. 1. 1  1. 1. 1  1  1  1  1. 1  1  1  1  1  1  1  1. 1  1. 1  1  1  \n1  1  1  1  1  1  1  1  1  1  1. 1  1  1  1  1  1  1. 1  1  1  1  1  1  1  1  1  1  1  1. 1. 1  1  1  1. 0. 1. 1  1  1  1. 1  1  1  1  1  1  1  1  1  \n1  1. 1  1  1  1. 1. 1. 1  1  1  1  1  1  1  1. 1  1  1  1  1. 1  1  1  1  1. 1  1. 1  1. 1  1  0. 1  1. 1. 1  1. 1. 1  1  1  1  1  1  1  1  1  1  1. \n1  1  1. 1  1  1  1. 1. 1  1. 1. 1. 1. 1. 1  1. 1. 1  1  1. 1  1  1  1. 1  1  1  1  0  0. 1  1  1  1  1  1  1  1  1  1  1. 1  1. 1  1. 1  1  1  1. 1. \n1  1  1. 1  1  1  1  1  1  0. 0  0. 1. 1  1  1. 1. 1. 1  1  1  1  1. 1. 1  1  1  1  1. 1  1  1  1. 1  1  1. 1. 1  0. 0  0  0  0  1  1  1. 1. 1  1. 1  \n1  1  1  1. 1. 1. 1  1  1  1. 1  1. 1. 1  1  1  1  1  1  0. 0  0. 0  0  0. 0. 1  1. 1  1. 1. 1. 1. 1  1  1. 1  1  1  1  1. 1  1  1  1  1  1  1  1  0. \n0. 0  0  0  0  0  0  0. 1  1  1. 1  1  1  1. 1. 1. 1  1. 1. 1  1. 1  1  1  1. 1  1  1  1  0. 0  0  0  0  0  0. 0. 0  1  1  1  1. 1  1  1. 1  1  1  1  \n1. 1  1  1. 1. 1. 1  1  1  1  1  0  0  0  0. 0. 0  0. 0  0. 0  0. 0. 0  0  0. 1. 1. 1. 1  1  1. 1. 1  0. 0. 0  0  0  0  0  0  0  0. 0  0  0  0  0  0. \n0. 0. 0  0  0  0  0  0. 0  0  0. 0. 0  0. 0  0  0  0  0  0. 0  0  0  0  0  0  0  0. 0  0  0. 0  0. 0  0  0  0. 0  0. 0. 0  0  0  0. 0  0. 0  0  0  0. \n0  0. 0  0  0  0  0  0  0  0  0  0  0  0  0  0  0  0  0. 0  0  0  0  0. 0  0  0  0  0  0. 0  0  0  0. 0. 0  0  0. 0  0. 0. 0  0  0  0. 0  0. 0  0. 0  \n0  0  0. 0  0. 0  0  0. 0  0  0. 0  0  0  0  0  0. 0  0  0  0  0. 0. 0  0. 0  0  0  0  0  0  0  0  0. 0  0. 0. 0. 0. 0  0. 0  0  0  0. 0. 0  0. 0. 0. \n"
     ]
    },
    {
     "name": "stdout",
     "output_type": "stream",
     "text": [
      "\n64  -  6\nIter=0 regr=7.18 crf=-1769.78; objective=-259.36 rel=385560468375599605597031145478894465059704012800.0000 lats=2\n  norm_v=0.998166355545\n*\n57.5123962188\n4.41714995336\n1.41826170672\n0.73901070736\n0.412098856349\n0.439808611748\n0.318072516575\n0.110837659666\n0.0416141801443\n0.0224762850843\n0.00340821409022\n3.84414722276e-15\n1. \n1  1  1  1. 1  1  1  1  1. 1  1  1  1  1  1. 1. 1  1  1  1  1  1  1. 1  1  1  1  1  1  1  1  1. 1  1  1  1  1. 1  1  1  1  1  1  1  1  1. 1  1. 1  1  \n1  1. 1. 1  1  1  1  1. 1  1  1  1  1  1. 1. 1  1  1  1  1  1. 1  1  1. 1. 1  1  1  1. 1  1  1  1. 1  1  1  1  1  1  1  1  1  1  1. 1  1. 1. 1  1  1  \n1  1. 1. 1. 1  1. 1  1  1  1  1  1  1  1  1. 1. 1  1  1  1  1  1  1  1  1. 1  1  1. 1. 1  1. 1. 1  1  1  1  1. 1  1  1  1  1  1  1  1. 1  1. 1  1  1  \n1  1  1  1  1  1  1  1  1  1  1. 1  1  1  1  1  1  1. 1  1  1  1  1  1  1  1  1  1  1  1. 1. 1  1  1  1. 0. 1. 1  1  1  1. 1  1  1  1  1  1  1  1  1  \n1  1. 1  1  1  1. 1. 1. 1  1  1  1  1  1  1  1. 1  1  1  1  1. 1  1  1  1  1. 1  1. 1  1. 1  1  0. 1  1. 1. 1  1. 1. 1  1  1  1  1  1  1  1  1  1  1. \n1  1  1. 1  1  1  1. 1. 1  1. 1. 1. 1. 1. 1  1. 1. 1  1  1. 1  1  1  1. 1  1  1  1  0  0. 1  1  1  1  1  1  1  1  1  1  1. 1  1. 1  1. 1  1  1  1. 1. \n1  1  1. 1  1  1  1  1  1  0. 0  0. 1. 1  1  1. 1. 1. 1  1  1  1  1. 1. 1  1  1  1  1. 1  1  1  1. 1  1  1. 1. 1  0. 0  0  0  0  1  1  1. 1. 1  1. 1  \n1  1  1  1. 1. 1. 1  1  1  1. 1  1. 1. 1  1  1  1  1  1  0. 0  0. 0  0  0. 0. 1  1. 1  1. 1. 1. 1. 1  1  1. 1  1  1  1  1. 1  1  1  1  1  1  1  1  0. \n0. 0  0  0  0  0  0  0. 1  1  1. 1  1  1  1. 1. 1. 1  1. 1. 1  1. 1  1  1  1. 1  1  1  1  0. 0  0  0  0  0  0. 0. 0  1  1  1  1. 1  1  1. 1  1  1  1  \n1. 1  1  1. 1. 1. 1  1  1  1  1  0  0  0  0. 0. 0  0. 0  0. 0  0. 0. 0  0  0. 1. 1. 1. 1  1  1. 1. 1  0. 0. 1  1  1  1  1  1  0  0. 0  0  0  0  0  0. \n0. 0. 0  0  0  0  0  0. 0  0  0. 0. 0  0. 0  0  0  0  0  0. 0  0  0  0  0  0  0  0. 0  0  0. 0  0. 0  0  0  0. 0  0. 0. 0  0  0  0. 0  0. 0  0  0  0. \n0  0. 0  0  0  0  0  0  0  0  0  0  0  0  0  0  0  0  0. 0  0  0  0  0. 0  0  0  0  0  0. 0  0  0  0. 0. 0  0  0. 0  0. 0. 0  0  0  0. 0  0. 0  0. 0  \n0  0  0. 0  0. 0  0  0. 0  0  0. 0  0  0  0  0  0. 0  0  0  0  0. 0. 0  0. 0  0  0  0  0  0  0  0  0. 0  0. 0. 0. 0. 0  0. 0  0  0  0. 0. 0  0. 0. 0. \n\n56  -  5\nIter=1 regr=7.18 crf=-1769.89; objective=-259.38 rel=0.0001 lats=2\n  norm_v=0.998277109168\n*\n57.3026553332\n4.46372307407\n1.34797851645\n0.860903097965\n0.414246934732\n0.34420958772\n0.516188647587\n0.251136807402\n0.100521163744\n0.0245463717393\n0.00222108596019\n4.53803661316e-15\n1. \n1  1  1  1. 1  1  1  1  1. 1  1  1  1  1  1. 1. 1  1  1  1  1  1  1. 1  1  1  1  1  1  1  1  1. 1  1  1  1  1. 1  1  1  1  1  1  1  1  1. 1  1. 1  1  \n1  1. 1. 1  1  1  1  1. 1  1  1  1  1  1. 1. 1  1  1  1  1  1. 1  1  1. 1. 1  1  1  1. 1  1  1  1. 1  1  1  1  1  1  1  1  1  1  1. 1  1. 1. 1  1  1  \n1  1. 1. 1. 1  1. 1  1  1  1  1  1  1  1  1. 1. 1  1  1  1  1  1  1  1  1. 1  1  1. 1. 1  1. 1. 1  1  1  1  1. 1  1  1  1  1  1  1  1. 1  1. 1  1  1  \n1  1  1  1  1  1  1  1  1  1  1. 1  1  1  1  1  1  1. 1  1  1  1  1  1  1  1  1  1  1  1. 1. 1  1  1  1. 0. 1. 1  1  1  1. 1  1  1  1  1  1  1  1  1  \n1  1. 1  1  1  1. 1. 1. 1  1  1  1  1  1  1  1. 1  1  1  1  1. 1  1  1  1  1. 1  1. 1  1. 1  1  0. 1  1. 1. 1  1. 1. 1  1  1  1  1  1  1  1  1  1  1. \n1  1  1. 1  1  1  1. 1. 1  1. 1. 1. 1. 1. 1  1. 1. 1  1  1. 1  1  1  1. 1  1  1  1  0  0. 1  1  1  1  1  1  1  1  1  1  1. 1  1. 1  1. 1  1  1  1. 1. \n1  1  1. 1  1  1  1  1  1  0. 0  0. 1. 1  1  1. 1. 1. 1  1  1  1  1. 1. 1  1  1  1  1. 1  1  1  1. 1  1  1. 1. 1  0. 0  0  0  0  1  1  1. 1. 1  1. 1  \n1  1  1  1. 1. 1. 1  1  1  1. 1  1. 1. 1  1  1  1  1  1  0. 0  0. 0  0  0. 0. 1  1. 1  1. 1. 1. 1. 1  1  1. 1  1  1  1  1. 1  1  1  1  1  1  1  1  0. \n0. 0  0  0  0  0  0  0. 1  1  1. 1  1  1  1. 1. 1. 1  1. 1. 1  1. 1  1  1  1. 1  1  1  1  0. 0  0  0  0  0  0. 0. 0  1  1  1  1. 1  1  1. 1  1  1  1  \n1. 1  1  1. 1. 1. 1  1  1  1  1  0  0  0  0. 0. 0  0. 0  0. 0  0. 0. 0  0  0. 1. 1. 1. 1  1  1. 1. 1  0. 0. 1  1  1  1  1  1  0  0. 0  0  0  0  0  0. \n0. 0. 0  0  0  0  0  0. 0  0  0. 0. 0  0. 0  0  0  0  0  0. 0  0  0  0  0  0  0  0. 0  0  0. 0  0. 0  0  0  0. 0  0. 0. 0  0  0  0. 0  0. 0  0  0  0. \n0  0. 0  0  0  0  0  0  0  0  0  0  0  0  0  0  0  0  0. 0  0  0  0  0. 0  0  0  0  0  0. 0  0  0  0. 0. 0  0  0. 0  0. 0. 0  0  0  0. 0  0. 0  0. 0  \n0  0  0. 0  0. 0  0  0. 0  0  0. 0  0  0  0  0  0. 0  0  0  0  0. 0. 0  0. 0  0  0  0  0  0  0  0  0. 0  0. 0. 0. 0. 0  0. 0  0  0  0. 0. 0  0. 0. 0. \n\n24  -  1\nIter=2 regr=7.18 crf=-1769.89; objective=-259.38 rel=0.0000 lats=2\n  norm_v=0.998278304701\n*\n57.3032668124"
     ]
    },
    {
     "name": "stdout",
     "output_type": "stream",
     "text": [
      "\n4.46373743657\n1.34797836713\n0.860906289888\n0.414099690818\n0.344303020941\n0.516085625012\n0.251104553498\n0.100510124162\n0.0245543898338\n0.00222316571968\n3.85802501057e-15\n1. \n1  1  1  1. 1  1  1  1  1. 1  1  1  1  1  1. 1. 1  1  1  1  1  1  1. 1  1  1  1  1  1  1  1  1. 1  1  1  1  1. 1  1  1  1  1  1  1  1  1. 1  1. 1  1  \n1  1. 1. 1  1  1  1  1. 1  1  1  1  1  1. 1. 1  1  1  1  1  1. 1  1  1. 1. 1  1  1  1. 1  1  1  1. 1  1  1  1  1  1  1  1  1  1  1. 1  1. 1. 1  1  1  \n1  1. 1. 1. 1  1. 1  1  1  1  1  1  1  1  1. 1. 1  1  1  1  1  1  1  1  1. 1  1  1. 1. 1  1. 1. 1  1  1  1  1. 1  1  1  1  1  1  1  1. 1  1. 1  1  1  \n1  1  1  1  1  1  1  1  1  1  1. 1  1  1  1  1  1  1. 1  1  1  1  1  1  1  1  1  1  1  1. 1. 1  1  1  1. 0. 1. 1  1  1  1. 1  1  1  1  1  1  1  1  1  \n1  1. 1  1  1  1. 1. 1. 1  1  1  1  1  1  1  1. 1  1  1  1  1. 1  1  1  1  1. 1  1. 1  1. 1  1  0. 1  1. 1. 1  1. 1. 1  1  1  1  1  1  1  1  1  1  1. \n1  1  1. 1  1  1  1. 1. 1  1. 1. 1. 1. 1. 1  1. 1. 1  1  1. 1  1  1  1. 1  1  1  1  0  0. 1  1  1  1  1  1  1  1  1  1  1. 1  1. 1  1. 1  1  1  1. 1. \n1  1  1. 1  1  1  1  1  1  0. 0  0. 1. 1  1  1. 1. 1. 1  1  1  1  1. 1. 1  1  1  1  1. 1  1  1  1. 1  1  1. 1. 1  0. 0  0  0  0  1  1  1. 1. 1  1. 1  \n1  1  1  1. 1. 1. 1  1  1  1. 1  1. 1. 1  1  1  1  1  1  0. 0  0. 0  0  0. 0. 1  1. 1  1. 1. 1. 1. 1  1  1. 1  1  1  1  1. 1  1  1  1  1  1  1  1  0. \n0. 0  0  0  0  0  0  0. 1  1  1. 1  1  1  1. 1. 1. 1  1. 1. 1  1. 1  1  1  1. 1  1  1  1  0. 0  0  0  0  0  0. 0. 0  1  1  1  1. 1  1  1. 1  1  1  1  \n1. 1  1  1. 1. 1. 1  1  1  1  1  0  0  0  0. 0. 0  0. 0  0. 0  0. 0. 0  0  0. 1. 1. 1. 1  1  1. 1. 1  0. 0. 1  1  1  1  1  1  0  0. 0  0  0  0  0  0. \n0. 0. 0  0  0  0  0  0. 0  0  0. 0. 0  0. 0  0  0  0  0  0. 0  0  0  0  0  0  0  0. 0  0  0. 0  0. 0  0  0  0. 0  0. 0. 0  0  0  0. 0  0. 0  0  0  0. \n0  0. 0  0  0  0  0  0  0  0  0  0  0  0  0  0  0  0  0. 0  0  0  0  0. 0  0  0  0  0  0. 0  0  0  0. 0. 0  0  0. 0  0. 0. 0  0  0  0. 0  0. 0  0. 0  \n0  0  0. 0  0. 0  0  0. 0  0  0. 0  0  0  0  0  0. 0  0  0  0  0. 0. 0  0. 0  0  0  0  0  0  0  0  0. 0  0. 0. 0. 0. 0  0. 0  0  0  0. 0. 0  0. 0. 0. \n\n24  -  1\nIter=3 regr=7.18 crf=-1769.89; objective=-259.38 rel=0.0000 lats=2\n  norm_v=0.998278371781\n*\n57.3033163733\n4.46373934712\n1.34798199225\n0.860909712251\n0.414148643195\n0.344274798233\n0.516120984397\n0.251117000275\n0.100513805779\n0.0245515484615\n0.00222239852581\n4.21884749358e-15\n1. \n1  1  1  1. 1  1  1  1  1. 1  1  1  1  1  1. 1. 1  1  1  1  1  1  1. 1  1  1  1  1  1  1  1  1. 1  1  1  1  1. 1  1  1  1  1  1  1  1  1. 1  1. 1  1  \n1  1. 1. 1  1  1  1  1. 1  1  1  1  1  1. 1. 1  1  1  1  1  1. 1  1  1. 1. 1  1  1  1. 1  1  1  1. 1  1  1  1  1  1  1  1  1  1  1. 1  1. 1. 1  1  1  \n1  1. 1. 1. 1  1. 1  1  1  1  1  1  1  1  1. 1. 1  1  1  1  1  1  1  1  1. 1  1  1. 1. 1  1. 1. 1  1  1  1  1. 1  1  1  1  1  1  1  1. 1  1. 1  1  1  \n1  1  1  1  1  1  1  1  1  1  1. 1  1  1  1  1  1  1. 1  1  1  1  1  1  1  1  1  1  1  1. 1. 1  1  1  1. 0. 1. 1  1  1  1. 1  1  1  1  1  1  1  1  1  \n1  1. 1  1  1  1. 1. 1. 1  1  1  1  1  1  1  1. 1  1  1  1  1. 1  1  1  1  1. 1  1. 1  1. 1  1  0. 1  1. 1. 1  1. 1. 1  1  1  1  1  1  1  1  1  1  1. \n1  1  1. 1  1  1  1. 1. 1  1. 1. 1. 1. 1. 1  1. 1. 1  1  1. 1  1  1  1. 1  1  1  1  0  0. 1  1  1  1  1  1  1  1  1  1  1. 1  1. 1  1. 1  1  1  1. 1. \n1  1  1. 1  1  1  1  1  1  0. 0  0. 1. 1  1  1. 1. 1. 1  1  1  1  1. 1. 1  1  1  1  1. 1  1  1  1. 1  1  1. 1. 1  0. 0  0  0  0  1  1  1. 1. 1  1. 1  \n1  1  1  1. 1. 1. 1  1  1  1. 1  1. 1. 1  1  1  1  1  1  0. 0  0. 0  0  0. 0. 1  1. 1  1. 1. 1. 1. 1  1  1. 1  1  1  1  1. 1  1  1  1  1  1  1  1  0. \n0. 0  0  0  0  0  0  0. 1  1  1. 1  1  1  1. 1. 1. 1  1. 1. 1  1. 1  1  1  1. 1  1  1  1  0. 0  0  0  0  0  0. 0. 0  1  1  1  1. 1  1  1. 1  1  1  1  \n1. 1  1  1. 1. 1. 1  1  1  1  1  0  0  0  0. 0. 0  0. 0  0. 0  0. 0. 0  0  0. 1. 1. 1. 1  1  1. 1. 1  0. 0. 1  1  1  1  1  1  0  0. 0  0  0  0  0  0. \n0. 0. 0  0  0  0  0  0. 0  0  0. 0. 0  0. 0  0  0  0  0  0. 0  0  0  0  0  0  0  0. 0  0  0. 0  0. 0  0  0  0. 0  0. 0. 0  0  0  0. 0  0. 0  0  0  0. \n0  0. 0  0  0  0  0  0  0  0  0  0  0  0  0  0  0  0  0. 0  0  0  0  0. 0  0  0  0  0  0. 0  0  0  0. 0. 0  0  0. 0  0. 0. 0  0  0  0. 0  0. 0  0. 0  \n0  0  0. 0  0. 0  0  0. 0  0  0. 0  0  0  0  0  0. 0  0  0  0  0. 0. 0  0. 0  0  0  0  0  0  0  0  0. 0  0. 0. 0. 0. 0  0. 0  0  0  0. 0. 0  0. 0. 0. \n\n24  -  1\nIter=4 regr=7.18 crf=-1769.89; objective=-259.38 rel=0.0000 lats=2\n  norm_v=0.998278396276\n*\nTake best solution from iteration 4/4.\n0\n[[-0.52831697 -0.66948527]\n [-0.66948527 -0.50101493]]\nEmissions:\n[ 0.03179805 -0.10638602 -0.03179809 -0.0698157 ]\n"
     ]
    },
    {
     "name": "stderr",
     "output_type": "stream",
     "text": [
      "/Users/nicococo/anaconda/lib/python2.7/site-packages/numba/dataflow.py:289: RuntimeWarning: Python2 style print partially supported.  Please use Python3 style print.\n  \"Python3 style print.\", RuntimeWarning)\n"
     ]
    },
    {
     "data": {
      "text/plain": [
       "True"
      ]
     },
     "execution_count": 20,
     "output_type": "execute_result",
     "metadata": {}
    }
   ],
   "source": [
    "lbpa = TCRFR_lbpa(x.T, y[linds], linds,  states=2, A=A, reg_theta=0.85, trans_sym=[1])\n",
    "lbpa.verbosity_level = 2\n",
    "lbpa.fit(use_grads=False)"
   ]
  },
  {
   "cell_type": "code",
   "execution_count": null,
   "metadata": {},
   "outputs": [],
   "source": [
    "plt.figure(1)\n",
    "plt.subplot(1, 3, 1)\n",
    "plt.imshow(z)\n",
    "plt.subplot(1, 3, 2)\n",
    "plt.imshow(lbpa.latent.reshape((height, width), order='C'))\n",
    "plt.subplot(1, 3, 3)\n",
    "plt.imshow(qp.latent.reshape((height, width), order='C'))\n",
    "plt.show()"
   ]
  },
  {
   "cell_type": "code",
   "execution_count": null,
   "metadata": {},
   "outputs": [],
   "source": [
    ""
   ]
  }
 ],
 "metadata": {},
 "nbformat": 4,
 "nbformat_minor": 0
}