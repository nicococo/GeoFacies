{
 "cells": [
  {
   "cell_type": "code",
   "execution_count": 1,
   "metadata": {},
   "outputs": [],
   "source": [
    "import numpy as np\n",
    "import cvxopt as co"
   ]
  },
  {
   "cell_type": "code",
   "execution_count": 2,
   "metadata": {},
   "outputs": [],
   "source": [
    "import matplotlib.pyplot as plt\n",
    "%matplotlib inline"
   ]
  },
  {
   "cell_type": "code",
   "execution_count": 3,
   "metadata": {},
   "outputs": [],
   "source": [
    "import sklearn.cluster as cl"
   ]
  },
  {
   "cell_type": "code",
   "execution_count": 4,
   "metadata": {},
   "outputs": [],
   "source": [
    "from niidbox.tcrfr_qp import TCRFR_QP\n",
    "from niidbox.tcrfr_lbpa import TCRFR_lbpa\n",
    "from niidbox.tcrfr_lbpa_iset import TCRFR_lbpa_iset"
   ]
  },
  {
   "cell_type": "code",
   "execution_count": 5,
   "metadata": {},
   "outputs": [],
   "source": [
    "from niidbox.utils import profile, print_profiles"
   ]
  },
  {
   "cell_type": "code",
   "execution_count": 6,
   "metadata": {},
   "outputs": [],
   "source": [
    "FRAC_LBLD_DATA = 0.2"
   ]
  },
  {
   "cell_type": "code",
   "execution_count": 7,
   "metadata": {},
   "outputs": [],
   "source": [
    "data = np.load('niidbox-data/data_smiley.npz')\n",
    "x = data['x']\n",
    "y = data['y']\n",
    "z = data['latent']\n",
    "width = data['width']\n",
    "height = data['height']\n",
    "exms = x.shape[0]"
   ]
  },
  {
   "cell_type": "code",
   "execution_count": 8,
   "metadata": {},
   "outputs": [
    {
     "data": {
      "text/plain": [
       "KMeans(copy_x=True, init='random', max_iter=100, n_clusters=2, n_init=4,\n    n_jobs=1, precompute_distances='auto', random_state=None, tol=0.0001,\n    verbose=0)"
      ]
     },
     "execution_count": 8,
     "output_type": "execute_result",
     "metadata": {}
    }
   ],
   "source": [
    "kmeans = cl.KMeans(n_clusters=2, init='random', n_init=4, max_iter=100, tol=0.0001)\n",
    "kmeans.fit(x)"
   ]
  },
  {
   "cell_type": "code",
   "execution_count": 9,
   "metadata": {},
   "outputs": [
    {
     "data": {
      "image/png": "[encoded data removed]"
     },
     "output_type": "display_data",
     "text": [
      "<matplotlib.figure.Figure at 0x10fe2ead0>"
     ],
     "metadata": {}
    }
   ],
   "source": [
    "plt.subplot(1, 4, 1)\n",
    "plt.imshow(x[:, 0].reshape((height, width), order='C'))\n",
    "plt.title('Inputs')\n",
    "plt.xticks([])\n",
    "plt.yticks([])\n",
    "\n",
    "plt.subplot(1, 4, 2)\n",
    "plt.imshow(y.reshape((height, width), order='C'))\n",
    "plt.title('Truth')\n",
    "plt.xticks([])\n",
    "plt.yticks([])\n",
    "\n",
    "plt.subplot(1, 4, 3)\n",
    "plt.imshow(z.reshape((height, width), order='C'))\n",
    "plt.title('True latent states')\n",
    "plt.xticks([])\n",
    "plt.yticks([])\n",
    "\n",
    "plt.subplot(1, 4, 4)\n",
    "plt.imshow(kmeans.labels_.reshape((height, width), order='C'))\n",
    "plt.title('KMeans')\n",
    "plt.xticks([])\n",
    "plt.yticks([])\n",
    "plt.show()"
   ]
  },
  {
   "cell_type": "code",
   "execution_count": 10,
   "metadata": {},
   "outputs": [],
   "source": [
    "linds = np.random.permutation(exms)[:np.int(FRAC_LBLD_DATA*exms)]"
   ]
  },
  {
   "cell_type": "code",
   "execution_count": 11,
   "metadata": {},
   "outputs": [],
   "source": [
    "A = co.spmatrix(0, [], [], (exms, exms), tc='d')\n",
    "for k in range(1, 4):\n",
    "    for i in range(height):\n",
    "        for j in range(width):\n",
    "            idx = i*width + j\n",
    "            idx1 = (i+k)*width + j\n",
    "            idx2 = i*width + j + k\n",
    "            if k == 1 or (k>1 and idx in linds) or (k>1 and idx1 in linds) or (k>1 and idx2 in linds):\n",
    "                if i < height-k:\n",
    "                    A[idx, idx1] = 1\n",
    "                    A[idx1, idx] = 1\n",
    "                if j < width-k:\n",
    "                    A[idx, idx2] = 1\n",
    "                    A[idx2, idx] = 1"
   ]
  },
  {
   "cell_type": "code",
   "execution_count": 12,
   "metadata": {},
   "outputs": [
    {
     "data": {
      "text/plain": [
       "True"
      ]
     },
     "execution_count": 12,
     "output_type": "execute_result",
     "metadata": {}
    }
   ],
   "source": [
    "%%capture on\n",
    "qp   = TCRFR_QP(x.T.copy(), y[linds].copy(), linds, states=2, A=A, reg_theta=0.85, trans_sym=[1])\n",
    "qp.fit(use_grads=False)"
   ]
  },
  {
   "cell_type": "code",
   "execution_count": 14,
   "metadata": {},
   "outputs": [
    {
     "data": {
      "text/plain": [
       "True"
      ]
     },
     "execution_count": 14,
     "output_type": "execute_result",
     "metadata": {}
    }
   ],
   "source": [
    "%%capture on\n",
    "lbpa = TCRFR_lbpa(x.T, y[linds], linds,  states=2, A=A, \n",
    "                  reg_gamma=1., reg_theta=0.95, trans_sym=[1])\n",
    "lbpa.verbosity_level = 2\n",
    "lbpa.fit(use_grads=False, auto_adjust=True)"
   ]
  },
  {
   "cell_type": "code",
   "execution_count": 15,
   "metadata": {},
   "outputs": [],
   "source": [
    "isets = [np.arange(0, y.size)]"
   ]
  },
  {
   "cell_type": "code",
   "execution_count": 16,
   "metadata": {},
   "outputs": [
    {
     "data": {
      "text/plain": [
       "True"
      ]
     },
     "execution_count": 16,
     "output_type": "execute_result",
     "metadata": {}
    }
   ],
   "source": [
    "%%capture on\n",
    "lbpa_iset = TCRFR_lbpa_iset(isets, x.T, y[linds], linds,  states=2, A=A, \n",
    "                  reg_gamma=1., reg_theta=0.95, trans_sym=[1])\n",
    "lbpa_iset.verbosity_level = 2\n",
    "lbpa_iset.fit(use_grads=False, auto_adjust=True)"
   ]
  },
  {
   "cell_type": "code",
   "execution_count": 17,
   "metadata": {},
   "outputs": [
    {
     "data": {
      "image/png": "[encoded data removed]"
     },
     "output_type": "display_data",
     "text": [
      "<matplotlib.figure.Figure at 0x108b5da50>"
     ],
     "metadata": {}
    }
   ],
   "source": [
    "plt.subplot(1, 5, 1)\n",
    "plt.imshow(z.reshape((height, width), order='C'))\n",
    "plt.title('True latent states')\n",
    "plt.xticks([])\n",
    "plt.yticks([])\n",
    "\n",
    "plt.subplot(1, 5, 2)\n",
    "lbls = np.zeros(exms)\n",
    "lbls[linds] = 1\n",
    "plt.imshow(lbls.reshape((height, width), order='C'))\n",
    "plt.title('Training samples')\n",
    "plt.xticks([])\n",
    "plt.yticks([])\n",
    "\n",
    "plt.subplot(1, 5, 3)\n",
    "plt.imshow(lbpa.latent.reshape((height, width), order='C'))\n",
    "plt.title('LBP')\n",
    "plt.xticks([])\n",
    "plt.yticks([])\n",
    "\n",
    "plt.subplot(1, 5, 4)\n",
    "plt.imshow(qp.latent.reshape((height, width), order='C'))\n",
    "plt.title('QP')\n",
    "plt.xticks([])\n",
    "plt.yticks([])\n",
    "\n",
    "plt.subplot(1, 5, 5)\n",
    "plt.imshow(lbpa_iset.latent.reshape((height, width), order='C'))\n",
    "plt.title('LBP isets')\n",
    "plt.xticks([])\n",
    "plt.yticks([])\n",
    "\n",
    "plt.show()"
   ]
  },
  {
   "cell_type": "code",
   "execution_count": null,
   "metadata": {},
   "outputs": [],
   "source": [
    ""
   ]
  },
  {
   "cell_type": "code",
   "execution_count": null,
   "metadata": {},
   "outputs": [],
   "source": [
    ""
   ]
  }
 ],
 "metadata": {},
 "nbformat": 4,
 "nbformat_minor": 0
}